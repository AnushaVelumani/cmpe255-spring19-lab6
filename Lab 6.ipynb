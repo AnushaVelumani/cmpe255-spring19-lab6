{
 "cells": [
  {
   "cell_type": "code",
   "execution_count": 4,
   "metadata": {},
   "outputs": [],
   "source": [
    "import matplotlib\n",
    "import matplotlib.pyplot as plt\n",
    "import numpy as np\n",
    "import pandas as pd\n",
    "import sklearn"
   ]
  },
  {
   "cell_type": "code",
   "execution_count": 5,
   "metadata": {},
   "outputs": [],
   "source": [
    "age=[17.5,22,29.5,44.5,64.5,80]\n",
    "deaths=[38,36,24,20,18,28]\n"
   ]
  },
  {
   "cell_type": "code",
   "execution_count": 7,
   "metadata": {},
   "outputs": [
    {
     "data": {
      "image/png": "[encoded data removed]",
      "text/plain": [
       "<Figure size 432x288 with 1 Axes>"
      ]
     },
     "metadata": {
      "needs_background": "light"
     },
     "output_type": "display_data"
    }
   ],
   "source": [
    "plt.plot(age,deaths,\"r.\")\n",
    "plt.xlabel(\"age\")\n",
    "plt.ylabel(\"Number of deaths\")\n",
    "plt.show()"
   ]
  },
  {
   "cell_type": "markdown",
   "metadata": {},
   "source": [
    "Calculating best fit using best squares method"
   ]
  },
  {
   "cell_type": "code",
   "execution_count": 9,
   "metadata": {},
   "outputs": [
    {
     "name": "stdout",
     "output_type": "stream",
     "text": [
      "-0.19182491149018346 35.58180452741122\n"
     ]
    }
   ],
   "source": [
    "age_mean = np.mean(age)\n",
    "deaths_mean = np.mean(deaths)\n",
    "\n",
    "num = 0\n",
    "d = 0\n",
    "for i in range(len(age)):\n",
    "    num += (age[i] - age_mean)*(deaths[i] - deaths_mean)\n",
    "    d += (age[i] - age_mean)**2\n",
    "m = num / d\n",
    "c = deaths_mean - m*age_mean\n",
    "\n",
    "print (m, c)"
   ]
  },
  {
   "cell_type": "code",
   "execution_count": 10,
   "metadata": {},
   "outputs": [
    {
     "data": {
      "image/png": "[encoded data removed]",
      "text/plain": [
       "<Figure size 432x288 with 1 Axes>"
      ]
     },
     "metadata": {
      "needs_background": "light"
     },
     "output_type": "display_data"
    }
   ],
   "source": [
    "plt.scatter(age, deaths)\n",
    "axes=plt.gca()\n",
    "x_intercept = np.array(axes.get_xlim())\n",
    "y_intercept = c + m * x_intercept\n",
    "\n",
    "\n",
    "plt.plot(x_intercept, y_intercept, '--')\n",
    "plt.show()"
   ]
  },
  {
   "cell_type": "markdown",
   "metadata": {},
   "source": [
    "Prediction at the age of 40 and 60"
   ]
  },
  {
   "cell_type": "code",
   "execution_count": 12,
   "metadata": {},
   "outputs": [
    {
     "name": "stdout",
     "output_type": "stream",
     "text": [
      "Number of deaths at the age of 40= 27.908808067803882\n",
      "Number of deaths at the age of 60= 24.072309838000216\n"
     ]
    }
   ],
   "source": [
    "predict_40=m*40+c\n",
    "print(\"Number of deaths at the age of 40=\",predict_40)\n",
    "predict_60=m*60+c\n",
    "print(\"Number of deaths at the age of 60=\",predict_60)"
   ]
  },
  {
   "cell_type": "markdown",
   "metadata": {},
   "source": [
    "Finding the correlation coefficient (Pearson's r)"
   ]
  },
  {
   "cell_type": "code",
   "execution_count": 13,
   "metadata": {},
   "outputs": [
    {
     "data": {
      "text/plain": [
       "(-0.578743707566063, 0.22880788559284734)"
      ]
     },
     "execution_count": 13,
     "metadata": {},
     "output_type": "execute_result"
    }
   ],
   "source": [
    "from scipy.stats import pearsonr\n",
    "r,p=pearsonr(age,deaths)\n",
    "r,p"
   ]
  },
  {
   "cell_type": "code",
   "execution_count": 14,
   "metadata": {},
   "outputs": [
    {
     "name": "stdout",
     "output_type": "stream",
     "text": [
      "Coeficient= -0.578743707566063\n"
     ]
    }
   ],
   "source": [
    "print(\"Coeficient=\",r)"
   ]
  },
  {
   "cell_type": "markdown",
   "metadata": {},
   "source": [
    "Since the coefficient is negative,there is a slight negative linear relationship between the age and number of deaths"
   ]
  },
  {
   "cell_type": "code",
   "execution_count": null,
   "metadata": {},
   "outputs": [],
   "source": []
  }
 ],
 "metadata": {
  "kernelspec": {
   "display_name": "Python 3",
   "language": "python",
   "name": "python3"
  },
  "language_info": {
   "codemirror_mode": {
    "name": "ipython",
    "version": 3
   },
   "file_extension": ".py",
   "mimetype": "text/x-python",
   "name": "python",
   "nbconvert_exporter": "python",
   "pygments_lexer": "ipython3",
   "version": "3.6.8"
  }
 },
 "nbformat": 4,
 "nbformat_minor": 2
}
